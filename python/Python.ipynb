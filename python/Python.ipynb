{
 "metadata": {
  "name": "",
  "signature": "sha256:a0d462be8078ce82ab2a9a4e760eb72cd8cac403a845081c360df4d89bda7549"
 },
 "nbformat": 3,
 "nbformat_minor": 0,
 "worksheets": [
  {
   "cells": [
    {
     "cell_type": "markdown",
     "metadata": {},
     "source": [
      "![Python](https://www.python.org/static/community_logos/python-logo-generic.svg)\n",
      "\n",
      "- aktuelle Version: Python 3.4\n",
      "\n",
      "\n",
      "Hier soll es hingehen: Auswertung von Praktikumsversuchen:\n",
      "\n",
      "![Plot](files/muon_plot.png)\n",
      "\n",
      "Fortgeschrittenen Praktikum, Lebensdauer kosmischer Myonen"
     ]
    },
    {
     "cell_type": "markdown",
     "metadata": {},
     "source": [
      "Einfachstes Beispiel:"
     ]
    },
    {
     "cell_type": "code",
     "collapsed": false,
     "input": [
      "print('Hello, World!')"
     ],
     "language": "python",
     "metadata": {},
     "outputs": []
    },
    {
     "cell_type": "markdown",
     "metadata": {},
     "source": [
      "Zum Vergleich: C++\n",
      "\n",
      "    #include <iostream>\n",
      "\n",
      "    int main(int argc, char *argv[])\n",
      "    {\n",
      "        std::cout << \"Hello, World!\" << std::endl;\n",
      "        return 0;\n",
      "    }"
     ]
    },
    {
     "cell_type": "markdown",
     "metadata": {},
     "source": [
      "## Einfache Datentypen\n",
      "\n",
      "Python stellt bereit:\n",
      "\n",
      "- Booleans: `True, False`\n",
      "- Ganze Zahlen (Integer): `42`\n",
      "- Floating-Point-Zahlen: `3.14`\n",
      "- Strings (Zeichenketten, Textausschnitte): `'Test'` oder `\"Test\"`\n",
      "- Listen: [1, 2, 3]\n",
      "- Dictionaries: { 'eins': 1, 'zwei': 2, 'drei': 3 }\n",
      "- Tupel: ('test', 1)\n",
      "\n",
      "Python ist eine dymanisch typisierte Sprache, das hei\u00dft, es werden Variablen automatisch Typen zugewiesen.\n",
      "Welchen Typ eine Variable gerade habt erfahrt ihr mit:"
     ]
    },
    {
     "cell_type": "code",
     "collapsed": false,
     "input": [
      "type(True), type(1), type(1.0), type([1,2,3])"
     ],
     "language": "python",
     "metadata": {},
     "outputs": []
    },
    {
     "cell_type": "markdown",
     "metadata": {},
     "source": [
      "## Kommentare\n",
      "\n",
      "Sehr wichtig f\u00fcr die Leute die mit euch Arbeiten und f\u00fcr euch zwei Wochen sp\u00e4ter sind Kommentare, die erkl\u00e4ren, was euer Code tut. Alles was in Python hinter einem `#` steht, wird nicht als Code betrachtet und dient als Kommentar."
     ]
    },
    {
     "cell_type": "code",
     "collapsed": false,
     "input": [
      "# this just prints \"hello World\" on the console\n",
      "print(\"Hello World\")"
     ],
     "language": "python",
     "metadata": {},
     "outputs": []
    },
    {
     "cell_type": "markdown",
     "metadata": {},
     "source": [
      "## Variablen\n",
      "\n",
      "- Man kann einem Objekt einen Namen geben:"
     ]
    },
    {
     "cell_type": "code",
     "collapsed": false,
     "input": [
      "a = 2\n",
      "b = 3\n",
      "\n",
      "a + b"
     ],
     "language": "python",
     "metadata": {},
     "outputs": []
    },
    {
     "cell_type": "code",
     "collapsed": false,
     "input": [
      "# Eine Liste:\n",
      "namen = ['foo', 'bar', 'baz']"
     ],
     "language": "python",
     "metadata": {},
     "outputs": []
    },
    {
     "cell_type": "code",
     "collapsed": false,
     "input": [
      "namen[1]"
     ],
     "language": "python",
     "metadata": {},
     "outputs": []
    },
    {
     "cell_type": "code",
     "collapsed": false,
     "input": [
      "# Ein Dictionary:\n",
      "zahlen = { 'eins': 1, 'zwei': 2, 'drei': 3 }"
     ],
     "language": "python",
     "metadata": {},
     "outputs": []
    },
    {
     "cell_type": "code",
     "collapsed": false,
     "input": [
      "zahlen['zwei']"
     ],
     "language": "python",
     "metadata": {},
     "outputs": []
    },
    {
     "cell_type": "markdown",
     "metadata": {},
     "source": [
      "Dictionarys sind extrem hilfreich, zum Beispiel um die gleiche Analyse f\u00fcr verschiedene Datens\u00e4tze durchzuf\u00fchren:"
     ]
    },
    {
     "cell_type": "code",
     "collapsed": false,
     "input": [
      "data = {\"Cu\":[1.1, 1.2, 1.3, 1.4], \"Fe\":[0.7, 0.8, 0.9, 1.0]}\n",
      "data[\"Cu\"]"
     ],
     "language": "python",
     "metadata": {},
     "outputs": []
    },
    {
     "cell_type": "markdown",
     "metadata": {},
     "source": [
      "Variablennamen k\u00f6nnen auch \u00fcberschrieben werden:"
     ]
    },
    {
     "cell_type": "code",
     "collapsed": false,
     "input": [
      "a = 42\n",
      "b = a\n",
      "\n",
      "a = 0\n",
      "b"
     ],
     "language": "python",
     "metadata": {},
     "outputs": []
    },
    {
     "cell_type": "markdown",
     "metadata": {},
     "source": [
      "## Rechenoperatoren\n",
      "Es gibt:\n",
      "\n",
      "- `+`, `-`, `*` \n",
      "- `**` (Potenzieren: 2\\*\\*3 \u2192 8)\n",
      "- `/` (3 / 2 \u2192 1.5)\n",
      "- `//` (3 // 2 \u2192 1)\n",
      "- `%` (Modulo-Operation, Divisionsrest)"
     ]
    },
    {
     "cell_type": "markdown",
     "metadata": {},
     "source": [
      "Listen werden mit `+` zusammengef\u00fchrt:"
     ]
    },
    {
     "cell_type": "code",
     "collapsed": false,
     "input": [
      "[1, 2, 3] + [4, 5]"
     ],
     "language": "python",
     "metadata": {},
     "outputs": []
    },
    {
     "cell_type": "markdown",
     "metadata": {},
     "source": [
      "## Vergleichsoperatoren\n",
      "\n",
      "geben `True` oder `False` zur\u00fcck\n",
      "\n",
      "- `==`, `!=`\n",
      "- `>`, `<`, `>=`, `<=`"
     ]
    },
    {
     "cell_type": "code",
     "collapsed": false,
     "input": [
      "'Test' == 42"
     ],
     "language": "python",
     "metadata": {},
     "outputs": []
    },
    {
     "cell_type": "markdown",
     "metadata": {},
     "source": [
      "## Logische Operatoren\n",
      "\n",
      "- `and`, `or`, `not`, `in`"
     ]
    },
    {
     "cell_type": "code",
     "collapsed": false,
     "input": [
      "True or False\n",
      "# True and False\n",
      "# False and False"
     ],
     "language": "python",
     "metadata": {},
     "outputs": []
    },
    {
     "cell_type": "code",
     "collapsed": false,
     "input": [
      "weekdays = [\"Mo\", \"Di\", \"Mi\", \"Do\", \"Fr\", \"Sa\", \"So\"]\n",
      "\"Mo\" in weekdays"
     ],
     "language": "python",
     "metadata": {},
     "outputs": []
    },
    {
     "cell_type": "markdown",
     "metadata": {},
     "source": [
      "## Funktionen aufrufen\n",
      "\n"
     ]
    },
    {
     "cell_type": "code",
     "collapsed": false,
     "input": [
      "print('Hello!')"
     ],
     "language": "python",
     "metadata": {},
     "outputs": []
    },
    {
     "cell_type": "code",
     "collapsed": false,
     "input": [
      "len([1, 2, 3, 4, 5])"
     ],
     "language": "python",
     "metadata": {},
     "outputs": []
    },
    {
     "cell_type": "markdown",
     "metadata": {},
     "source": [
      "Viele Funktionen k\u00f6nnen beliebig viele Argumente haben:"
     ]
    },
    {
     "cell_type": "code",
     "collapsed": false,
     "input": [
      "print(1, 2, 3, 4, 5)"
     ],
     "language": "python",
     "metadata": {},
     "outputs": []
    },
    {
     "cell_type": "markdown",
     "metadata": {},
     "source": [
      "Man kann auch sogenannte Keyword-Arguments \u00fcbergeben:"
     ]
    },
    {
     "cell_type": "code",
     "collapsed": false,
     "input": [
      "print(1, 2, 3, sep=', ')"
     ],
     "language": "python",
     "metadata": {},
     "outputs": []
    },
    {
     "cell_type": "markdown",
     "metadata": {},
     "source": [
      "Objekte haben auch Funktionen (nennt man Methoden):"
     ]
    },
    {
     "cell_type": "code",
     "collapsed": false,
     "input": [
      "'foo bar baz'.split()"
     ],
     "language": "python",
     "metadata": {},
     "outputs": []
    },
    {
     "cell_type": "code",
     "collapsed": false,
     "input": [
      "s = 'test'\n",
      "s.upper()"
     ],
     "language": "python",
     "metadata": {},
     "outputs": []
    },
    {
     "cell_type": "markdown",
     "metadata": {},
     "source": [
      "In IPython kann man wie folgt auf die Dokumentation einer Funktion zugreifen:"
     ]
    },
    {
     "cell_type": "code",
     "collapsed": false,
     "input": [
      "print?"
     ],
     "language": "python",
     "metadata": {},
     "outputs": []
    },
    {
     "cell_type": "markdown",
     "metadata": {},
     "source": [
      "Ansonsten findet man ausf\u00fchrliche Erkl\u00e4rungen in der offiziellen Dokumentation."
     ]
    },
    {
     "cell_type": "markdown",
     "metadata": {},
     "source": [
      "## Kontrollstrukturen\n",
      "\n",
      "Jede Zeile eines Python-Programms wird nacheinander durchlaufen.\n",
      "\n",
      "Die *Kontrollstrukturen* erlauben mehr Kontrolle \u00fcber den Ablauf.\n",
      "\n",
      "- if/elif/else: Ablauf unter einer bestimmten Bedingung"
     ]
    },
    {
     "cell_type": "code",
     "collapsed": false,
     "input": [
      "a = 3\n",
      "if a == 1:\n",
      "    # muss einger\u00fcckt werden, 4 spaces:\n",
      "    print('foo')\n",
      "elif a == 2:\n",
      "    print('bar')\n",
      "else:\n",
      "    print('baz')"
     ],
     "language": "python",
     "metadata": {},
     "outputs": []
    },
    {
     "cell_type": "markdown",
     "metadata": {},
     "source": [
      "- `while`-Schleifen: Wiederholen, solange ein bestimmter Ausdruck `True` zur\u00fcck gibt"
     ]
    },
    {
     "cell_type": "code",
     "collapsed": false,
     "input": [
      "i = 0\n",
      "while i < 5:\n",
      "    print(i)\n",
      "    i += 1"
     ],
     "language": "python",
     "metadata": {},
     "outputs": []
    },
    {
     "cell_type": "markdown",
     "metadata": {},
     "source": [
      "\n",
      " - `for`-Schleifen: Wiederholen f\u00fcr jedes Element (z.B. einer Liste)"
     ]
    },
    {
     "cell_type": "code",
     "collapsed": false,
     "input": [
      "for i in range(5):\n",
      "    print(i)"
     ],
     "language": "python",
     "metadata": {},
     "outputs": []
    },
    {
     "cell_type": "code",
     "collapsed": false,
     "input": [
      "for i in range(2, 5):\n",
      "    print(i)"
     ],
     "language": "python",
     "metadata": {},
     "outputs": []
    },
    {
     "cell_type": "code",
     "collapsed": false,
     "input": [
      "for i in range(10, 3, -1):\n",
      "    print(i)"
     ],
     "language": "python",
     "metadata": {},
     "outputs": []
    },
    {
     "cell_type": "markdown",
     "metadata": {},
     "source": [
      "Wichtige Anwedung: Schleife \u00fcber Elemente eines schon existierenden Arrays oder einer Liste :"
     ]
    },
    {
     "cell_type": "code",
     "collapsed": false,
     "input": [
      "for day in weekdays:\n",
      "    print(\"Heute ist\", day)"
     ],
     "language": "python",
     "metadata": {},
     "outputs": []
    },
    {
     "cell_type": "markdown",
     "metadata": {},
     "source": [
      "## Eigene Funktionen definieren mit `def`"
     ]
    },
    {
     "cell_type": "code",
     "collapsed": false,
     "input": [
      "def add(x, y):\n",
      "    z = x + y\n",
      "    return z\n",
      "\n",
      "add(2, 2)"
     ],
     "language": "python",
     "metadata": {},
     "outputs": []
    },
    {
     "cell_type": "markdown",
     "metadata": {},
     "source": [
      "Man kann auch mehrere Werte zur\u00fcckgeben:"
     ]
    },
    {
     "cell_type": "code",
     "collapsed": false,
     "input": [
      "def divide(x, y):\n",
      "    return x // y, x % y\n",
      "\n",
      "n, rest = divide(5, 3)\n",
      "print(n)\n",
      "print(rest)"
     ],
     "language": "python",
     "metadata": {},
     "outputs": []
    },
    {
     "cell_type": "code",
     "collapsed": false,
     "input": [
      "def factorial(n):\n",
      "    if n == 0:\n",
      "        return 1\n",
      "    else:\n",
      "        return n * factorial(n - 1)\n",
      "\n",
      "factorial(4)"
     ],
     "language": "python",
     "metadata": {},
     "outputs": []
    },
    {
     "cell_type": "markdown",
     "metadata": {},
     "source": [
      "## Module und `import`\n",
      "\n",
      "In Python kann man Programme in einzelne Module portionieren.\n",
      "\n",
      "Es stehen bereits unglaublich viele Module f\u00fcr Python zur Verf\u00fcgung. Gerade f\u00fcrs wissenschaftliche Arbeiten ist eigentlich alles da was man braucht und noch viel mehr.\n",
      "Braucht man etwas aus einem anderen Modul, importiert man es:"
     ]
    },
    {
     "cell_type": "code",
     "collapsed": false,
     "input": [
      "import os\n",
      "\n",
      "os.listdir()"
     ],
     "language": "python",
     "metadata": {},
     "outputs": []
    },
    {
     "cell_type": "markdown",
     "metadata": {},
     "source": [
      "Man kann auch nur einzelne Funktionen importieren:"
     ]
    },
    {
     "cell_type": "code",
     "collapsed": false,
     "input": [
      "from os.path import join\n",
      "outputpath = \"Plots\"\n",
      "join(outputpath, \"fig1.pdf\")"
     ],
     "language": "python",
     "metadata": {},
     "outputs": []
    },
    {
     "cell_type": "markdown",
     "metadata": {},
     "source": [
      "`from module import *` importiert jede Funktion eines Moduls. Sollte auf Grund von m\u00f6glichen Mehrfachbelegungen \n",
      "nicht in gr\u00f6\u00dferen Programmen verwendet werden"
     ]
    },
    {
     "cell_type": "code",
     "collapsed": false,
     "input": [
      "from os.path import *\n",
      "outputpath = \"Plots\"\n",
      "if not exists(outputpath):\n",
      "    makedirs(outputpath)\n",
      "    print(\"created directory\", outputpath)\n"
     ],
     "language": "python",
     "metadata": {},
     "outputs": []
    },
    {
     "cell_type": "markdown",
     "metadata": {},
     "source": [
      "Den Modulen k\u00f6nnen mit `as` neue Namen gegeben werden"
     ]
    },
    {
     "cell_type": "code",
     "collapsed": false,
     "input": [
      "import os.path as pa\n",
      "\n",
      "pa.join(outputpath, \"fig1.pdf\")"
     ],
     "language": "python",
     "metadata": {},
     "outputs": []
    },
    {
     "cell_type": "markdown",
     "metadata": {},
     "source": [
      "## Auslagern in Python-Dateien\n",
      "\n",
      "\n",
      "- Python-Dateien haben die Endung `.py`\n",
      "- Startet man mit `python programm.py`\n",
      "- Einzelne Python-Dateien (Endung .py) kann man als Module benutzen. Liegt eine Datei `test.py` im selben Ordner, so kann man `import test` ausf\u00fchren.\n",
      "\n",
      "Es folgt ein fertiges Python-Programm.\n",
      "\n",
      "Speichert es als `primes.py` ab und startet es aus dem Terminal mit `python primes.py`."
     ]
    },
    {
     "cell_type": "code",
     "collapsed": false,
     "input": [
      "def primes(max_num):\n",
      "    # Es werden nur Primzahlen kleiner max_num berechnet\n",
      "    is_prime = max_num * [True]\n",
      "    is_prime[0] = False\n",
      "    is_prime[1] = False\n",
      "\n",
      "    primes = []\n",
      "\n",
      "    # Sieb von Erathosthenes:\n",
      "    for i in range(2, max_num):\n",
      "        if is_prime[i]:\n",
      "            for j in range(2 * i, max_num, i):\n",
      "                # Alle Vielfachen sind keine Primzahl\n",
      "                is_prime[j] = False\n",
      "            primes.append(i)\n",
      "    \n",
      "    return primes\n",
      "\n",
      "print(primes(100))"
     ],
     "language": "python",
     "metadata": {},
     "outputs": []
    },
    {
     "cell_type": "markdown",
     "metadata": {},
     "source": [
      "## Besonderheiten bei Strings\n",
      "Mit `\\` kann man in Strings besondere Anweisungen setzen:\n",
      "\n",
      " - `'\\n'` -> Zeilenumbruch\n",
      " - `'\\t'` -> Tab\n",
      " - `'\\\\'` -> normales `'\\'`\n",
      "\n",
      "Wenn man viele `'\\'` schreiben muss (z.B. in LaTeX-Code), lohnt es sich diese Funktion mit dem Prefix `r` auszuschalten:"
     ]
    },
    {
     "cell_type": "code",
     "collapsed": false,
     "input": [
      "print(r'\\Huge\\texttt{Python}')"
     ],
     "language": "python",
     "metadata": {},
     "outputs": []
    },
    {
     "cell_type": "markdown",
     "metadata": {},
     "source": [
      "Oft will man Werte oder andere Strings in einen String einsetzen.\n",
      "\n",
      "Daf\u00fcr stellt Python die `format()`-Methode bereit:"
     ]
    },
    {
     "cell_type": "code",
     "collapsed": false,
     "input": [
      "'Erster Wert: {}, Zweiter Wert: {}'.format(42, 0)"
     ],
     "language": "python",
     "metadata": {},
     "outputs": []
    },
    {
     "cell_type": "markdown",
     "metadata": {},
     "source": [
      "Die `{}`-Markierungen werden durch die Parameter von `format()` ersetzt.\n",
      "\n",
      "`format()` hat viele fortgeschrittene Funktionen:"
     ]
    },
    {
     "cell_type": "code",
     "collapsed": false,
     "input": [
      "'Das Ergebnis ist {:.2f}'.format(3.2211421)"
     ],
     "language": "python",
     "metadata": {},
     "outputs": []
    },
    {
     "cell_type": "markdown",
     "metadata": {},
     "source": [
      "Mit Python 3 kann man standardm\u00e4\u00dfig beliebige (Unicode-)Schriftzeichen in Strings verwenden (Umlaute!)."
     ]
    },
    {
     "cell_type": "code",
     "collapsed": false,
     "input": [
      "print('H\u00e4llo W\u00f6rld')"
     ],
     "language": "python",
     "metadata": {},
     "outputs": []
    },
    {
     "cell_type": "markdown",
     "metadata": {},
     "source": [
      "## Weiterf\u00fchrende Links:\n",
      "\n",
      "- [Offizielle Python-Dokumentation](http://docs.python.org/3/)\n",
      "- [Offizielles Python-Tutorial](http://docs.python.org/2/tutorial/index.html)\n",
      "- [Dive into Python 3](http://www.diveinto.org/python3/)\n",
      "- [A Byte of Python](http://swaroopch.com/notes/python_en-introduction/)"
     ]
    }
   ],
   "metadata": {}
  }
 ]
}