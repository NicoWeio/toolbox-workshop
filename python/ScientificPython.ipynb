{
 "metadata": {
  "name": "",
  "signature": "sha256:02440d3ee671c078b38eded9536b3503c92556b5d1e61ffa7e49a595481d8fab"
 },
 "nbformat": 3,
 "nbformat_minor": 0,
 "worksheets": [
  {
   "cells": [
    {
     "cell_type": "markdown",
     "metadata": {
      "slideshow": {
       "slide_type": "fragment"
      }
     },
     "source": [
      "# ![Numpy](http://www.numpy.org/_static/numpy_logo.png)\n",
      "\n",
      "- Oft muss man mit vielen Datenpunkten rechnen\n",
      "- Numpy erleichtert die Arbeit enorm"
     ]
    },
    {
     "cell_type": "code",
     "collapsed": false,
     "input": [
      "import numpy as np"
     ],
     "language": "python",
     "metadata": {
      "slideshow": {
       "slide_type": "fragment"
      }
     },
     "outputs": []
    },
    {
     "cell_type": "markdown",
     "metadata": {},
     "source": [
      "- Grunddatentyp von Numpy: das Array\n",
      "- Kann man sich als effizientere Liste vorstellen"
     ]
    },
    {
     "cell_type": "code",
     "collapsed": false,
     "input": [
      "x = np.array([1, 2, 3, 4, 5])"
     ],
     "language": "python",
     "metadata": {},
     "outputs": []
    },
    {
     "cell_type": "code",
     "collapsed": false,
     "input": [
      "2 * x\n",
      "# x + x"
     ],
     "language": "python",
     "metadata": {},
     "outputs": []
    },
    {
     "cell_type": "code",
     "collapsed": false,
     "input": [
      "x**2"
     ],
     "language": "python",
     "metadata": {},
     "outputs": []
    },
    {
     "cell_type": "code",
     "collapsed": false,
     "input": [
      "x**x"
     ],
     "language": "python",
     "metadata": {},
     "outputs": []
    },
    {
     "cell_type": "code",
     "collapsed": false,
     "input": [
      "np.cos(x)"
     ],
     "language": "python",
     "metadata": {},
     "outputs": []
    },
    {
     "cell_type": "markdown",
     "metadata": {},
     "source": [
      "Achtung: Man braucht das `cos` aus numpy!"
     ]
    },
    {
     "cell_type": "code",
     "collapsed": false,
     "input": [
      "import math\n",
      "math.cos(x)"
     ],
     "language": "python",
     "metadata": {},
     "outputs": []
    },
    {
     "cell_type": "markdown",
     "metadata": {},
     "source": [
      "Arrays k\u00f6nnen beliebige Dimension haben:"
     ]
    },
    {
     "cell_type": "code",
     "collapsed": false,
     "input": [
      "# zweidimensionales Array\n",
      "y = np.array([[1, 2, 3],\n",
      "              [4, 5, 6],\n",
      "              [7, 8, 9]])\n",
      "\n",
      "y + y"
     ],
     "language": "python",
     "metadata": {},
     "outputs": []
    },
    {
     "cell_type": "markdown",
     "metadata": {},
     "source": [
      "Es gibt viele n\u00fctzliche Funktionen, die Arrays erstellen:"
     ]
    },
    {
     "cell_type": "code",
     "collapsed": false,
     "input": [
      "np.zeros(10)"
     ],
     "language": "python",
     "metadata": {},
     "outputs": []
    },
    {
     "cell_type": "code",
     "collapsed": false,
     "input": [
      "np.ones(5)"
     ],
     "language": "python",
     "metadata": {},
     "outputs": []
    },
    {
     "cell_type": "code",
     "collapsed": false,
     "input": [
      "np.linspace(0, 1, 11)"
     ],
     "language": "python",
     "metadata": {},
     "outputs": []
    },
    {
     "cell_type": "code",
     "collapsed": false,
     "input": [
      "# wie range() f\u00fcr arrays:\n",
      "np.arange(0, 10)"
     ],
     "language": "python",
     "metadata": {},
     "outputs": []
    },
    {
     "cell_type": "markdown",
     "metadata": {},
     "source": [
      "## Numpy Indexing\n",
      "\n",
      "Numpy erlaubt einem sehr bequem bestimmte Elemente aus einem Array auszuw\u00e4hlen"
     ]
    },
    {
     "cell_type": "code",
     "collapsed": false,
     "input": [
      "x = np.arange(0, 10)\n",
      "\n",
      "# kennen wir schon:\n",
      "x[4]"
     ],
     "language": "python",
     "metadata": {},
     "outputs": []
    },
    {
     "cell_type": "code",
     "collapsed": false,
     "input": [
      "# alle Elemente mit Index 1 bis 3:\n",
      "x[1:4]"
     ],
     "language": "python",
     "metadata": {},
     "outputs": []
    },
    {
     "cell_type": "code",
     "collapsed": false,
     "input": [
      "# negative Indizes z\u00e4hlen vom Ende des Arrays:\n",
      "x[-1], x[-2]"
     ],
     "language": "python",
     "metadata": {},
     "outputs": []
    },
    {
     "cell_type": "code",
     "collapsed": false,
     "input": [
      "# Kombination aus beiden:\n",
      "x[3:-2]"
     ],
     "language": "python",
     "metadata": {},
     "outputs": []
    },
    {
     "cell_type": "code",
     "collapsed": false,
     "input": [
      "# man kann eine Schrittgr\u00f6\u00dfe angeben\n",
      "x[::2]"
     ],
     "language": "python",
     "metadata": {},
     "outputs": []
    },
    {
     "cell_type": "code",
     "collapsed": false,
     "input": [
      "# Trick zum Umkehren: negative Schrittgr\u00f6\u00dfe\n",
      "x[::-1]"
     ],
     "language": "python",
     "metadata": {},
     "outputs": []
    },
    {
     "cell_type": "code",
     "collapsed": false,
     "input": [
      "y = np.array([x, x + 10, x + 20, x + 30])\n",
      "y"
     ],
     "language": "python",
     "metadata": {},
     "outputs": []
    },
    {
     "cell_type": "code",
     "collapsed": false,
     "input": [
      "# mehrere Indizes mit Kommas getrennt:\n",
      "y[3, 2:-1]"
     ],
     "language": "python",
     "metadata": {},
     "outputs": []
    },
    {
     "cell_type": "code",
     "collapsed": false,
     "input": [
      "# Oder man gibt nur einen Index an \u21d2 eindimensionales Array\n",
      "y[2]"
     ],
     "language": "python",
     "metadata": {},
     "outputs": []
    },
    {
     "cell_type": "markdown",
     "metadata": {},
     "source": [
      "## Reduzieren von Arrays\n",
      "\n",
      "Viele Rechenoperationen reduzieren ein Array auf einen einzelnen Wert"
     ]
    },
    {
     "cell_type": "code",
     "collapsed": false,
     "input": [
      "x"
     ],
     "language": "python",
     "metadata": {},
     "outputs": []
    },
    {
     "cell_type": "code",
     "collapsed": false,
     "input": [
      "np.sum(x)"
     ],
     "language": "python",
     "metadata": {},
     "outputs": []
    },
    {
     "cell_type": "code",
     "collapsed": false,
     "input": [
      "np.prod(x)"
     ],
     "language": "python",
     "metadata": {},
     "outputs": []
    },
    {
     "cell_type": "code",
     "collapsed": false,
     "input": [
      "np.mean(x)"
     ],
     "language": "python",
     "metadata": {},
     "outputs": []
    },
    {
     "cell_type": "code",
     "collapsed": false,
     "input": [
      "# Standardabweichung:\n",
      "np.std(x)"
     ],
     "language": "python",
     "metadata": {},
     "outputs": []
    },
    {
     "cell_type": "code",
     "collapsed": false,
     "input": [
      "# Fehler des Mittelwerts:\n",
      "np.std(x) / np.sqrt(len(x))"
     ],
     "language": "python",
     "metadata": {},
     "outputs": []
    },
    {
     "cell_type": "code",
     "collapsed": false,
     "input": [
      "# Differenzen zwischen benachbarten Elementen\n",
      "np.diff(x)"
     ],
     "language": "python",
     "metadata": {},
     "outputs": []
    },
    {
     "cell_type": "markdown",
     "metadata": {},
     "source": [
      "## Input / Output\n",
      "\n",
      "Einlesen aus Textdateien: `genfromtxt`\n",
      "\n",
      "Sie gibt den Inhalt einer Textdatei als Array zur\u00fcck.\n",
      "\n",
      "Das Gegenst\u00fcck ist `savetxt`."
     ]
    },
    {
     "cell_type": "code",
     "collapsed": false,
     "input": [
      "n = np.arange(11)\n",
      "x = np.linspace(0, 1, 11)\n",
      "\n",
      "np.savetxt('test.txt', [n, x])"
     ],
     "language": "python",
     "metadata": {},
     "outputs": []
    },
    {
     "cell_type": "markdown",
     "metadata": {},
     "source": [
      "Die Datei enth\u00e4lt jetzt\n",
      "\n",
      "    0. 1. 2. 3. 4. 5. 6. 7. 8. 9. 10.\n",
      "    0. 0.1  0.2  0.3  0.4  0.5  0.6  0.7  0.8  0.9  1.\n",
      "    \n",
      "Man sollte aber immer erkl\u00e4ren, was man da abspeichert:"
     ]
    },
    {
     "cell_type": "code",
     "collapsed": false,
     "input": [
      "n = np.arange(11)\n",
      "x = np.linspace(0, 1, 11)\n",
      "\n",
      "# header schreibt eine Kommentarzeile in die erste Zeile der Datei\n",
      "np.savetxt('test.txt', [n, x], header=\"n \\t x\")"
     ],
     "language": "python",
     "metadata": {},
     "outputs": []
    },
    {
     "cell_type": "markdown",
     "metadata": {},
     "source": [
      "Einlesen der Werte mit `genfromtxt` :"
     ]
    },
    {
     "cell_type": "code",
     "collapsed": false,
     "input": [
      "a, b = np.genfromtxt('test.txt')\n",
      "\n",
      "print(a)\n",
      "print(b)"
     ],
     "language": "python",
     "metadata": {},
     "outputs": []
    },
    {
     "cell_type": "markdown",
     "metadata": {},
     "source": [
      "Oft schreibt man seine Datenpunkte aber spaltenweise:\n",
      "\n",
      "    1  1\n",
      "    2  4\n",
      "    3  9\n",
      "    4 16\n",
      "    5 20\n",
      "\n",
      "Dann kann man `unpack=True` verwenden, um die Daten zu transponieren. Um die Daten entsprechend transponiert zu speichern, verwenden wir"
     ]
    },
    {
     "cell_type": "code",
     "collapsed": false,
     "input": [
      "np.savetxt('test_T.txt', np.array([n, x]).T)"
     ],
     "language": "python",
     "metadata": {},
     "outputs": []
    },
    {
     "cell_type": "markdown",
     "metadata": {},
     "source": [
      "# SciPy\n",
      "![SciPy](http://scipy.in/static/img/scipyshiny_small.png)\n",
      "\n",
      "- Baut auf Numpy auf\n",
      "- Kann numerisch integrieren, DGLs l\u00f6sen, optimieren, minimieren, \u2026\n",
      "- Enth\u00e4lt auch physikalische Konstanten und wichtige mathematische Funktionen"
     ]
    },
    {
     "cell_type": "code",
     "collapsed": false,
     "input": [
      "# Fehler des Mittelwerts:\n",
      "from scipy.stats import sem # standard error of mean\n",
      "sem(x)"
     ],
     "language": "python",
     "metadata": {},
     "outputs": []
    },
    {
     "cell_type": "code",
     "collapsed": false,
     "input": [
      "# Physikalische Konstanten:\n",
      "import scipy.constants as const\n",
      "const.epsilon_0"
     ],
     "language": "python",
     "metadata": {},
     "outputs": []
    },
    {
     "cell_type": "code",
     "collapsed": false,
     "input": [
      "# Temperaturen konvertieren:\n",
      "const.C2K(100), const.K2C(100)"
     ],
     "language": "python",
     "metadata": {},
     "outputs": []
    },
    {
     "cell_type": "code",
     "collapsed": false,
     "input": [
      "# noch mehr Konstanten (mit Einheit und Fehler)!\n",
      "const.physical_constants"
     ],
     "language": "python",
     "metadata": {},
     "outputs": []
    },
    {
     "cell_type": "code",
     "collapsed": false,
     "input": [
      "# physical_constants ist ein dict in dem hinter keys \n",
      "# Wert, Einheit und Fehler hinterlegt sind\n",
      "\n",
      "const.physical_constants[\"proton mass\"]"
     ],
     "language": "python",
     "metadata": {},
     "outputs": []
    },
    {
     "cell_type": "markdown",
     "metadata": {},
     "source": [
      "## Fitten\n",
      "Oft m\u00f6chte man eine Funktion, zum Beispiel eine Erwartung aus der Theorie, an die gemessenen Werte anpassen.\n",
      "Dies nennt man Fit."
     ]
    },
    {
     "cell_type": "code",
     "collapsed": false,
     "input": [
      "# Beliebige Funktionen fitten\n",
      "%matplotlib inline\n",
      "from scipy.optimize import curve_fit\n",
      "import matplotlib.pyplot as plt\n",
      "\n",
      "x, y = np.genfromtxt('example_data.txt', unpack=True)\n",
      "\n",
      "def f(x, a, b):\n",
      "    return a * x + b\n",
      "\n",
      "params, covariance = curve_fit(f, x, y)\n",
      "# covariance ist die Kovarianzmatrix\n",
      "\n",
      "errors = np.sqrt(np.diag(covariance))\n",
      "\n",
      "print('a =', params[0], '+/-', errors[0])\n",
      "print('b =', params[1], '+/-', errors[1])\n",
      "\n",
      "x_plot = np.linspace(0, 10)\n",
      "\n",
      "plt.plot(x, y, 'rx', label=\"example-data\")\n",
      "plt.plot(x_plot, f(x_plot, *params), 'b-', label='linearer Fit')\n",
      "plt.legend(loc=\"best\")"
     ],
     "language": "python",
     "metadata": {},
     "outputs": []
    },
    {
     "cell_type": "code",
     "collapsed": false,
     "input": [],
     "language": "python",
     "metadata": {},
     "outputs": []
    }
   ],
   "metadata": {}
  }
 ]
}