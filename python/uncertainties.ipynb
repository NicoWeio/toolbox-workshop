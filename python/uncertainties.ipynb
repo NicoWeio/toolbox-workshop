{
 "metadata": {
  "name": "",
  "signature": "sha256:0bd577fc06661213b4b184d20ef6b72ad176fe5e5886e0a6539b9e0eb2b43309"
 },
 "nbformat": 3,
 "nbformat_minor": 0,
 "worksheets": [
  {
   "cells": [
    {
     "cell_type": "markdown",
     "metadata": {},
     "source": [
      "# Automatisieren von Fehlerrechnung\n",
      "\n",
      "$$ \\sigma_{f(x_i)} = \\sqrt{\\sum_{i=1}^m \\left( \\frac{\\partial f}{\\partial x_i}\\right)^{\\!2} \\sigma_{x_i}^2} $$\n",
      "\n",
      "- Gesucht: Fehler von $f(x_i)$, wenn $x_i$ Fehler haben\n",
      "- Manuelle Fehlerfortpflanzung:\n",
      " 1. Berechne die Ableitungen von $f$ nach allen fehlerbehafteten Gr\u00f6\u00dfen $x_i$\n",
      " 2. Ableitungen in die obere Formel einsetzen\n",
      " 3. Werte und Fehler der $x_i$ einsetzen\n",
      "- Probleme:\n",
      " - Kompliziert, dauert lange, man macht oft Fehler\n",
      " - Falsches Ergebnis, wenn $x_i$ korreliert sind\n",
      "\n",
      "$$ \\operatorname{cov}(\\vec{f}) = \\mathbf{J} \\operatorname{cov}(\\vec{x}) \\mathbf{J}^\\top $$\n",
      "\n",
      "$\\mathbf{J}$ ist Jacobimatrix von $\\vec{f}$ nach $\\vec{x}$.\n",
      " \n",
      "## `uncertainties`\n",
      "\n",
      "- Erlaubt es, Fehlerrechnung automatisch durchzuf\u00fchren\n",
      "- Datentyp: `ufloat`, repr\u00e4sentiert Wert mit Fehler"
     ]
    },
    {
     "cell_type": "code",
     "collapsed": false,
     "input": [
      "from uncertainties import ufloat\n",
      "\n",
      "x = ufloat(5, 1)\n",
      "y = ufloat(3, 1)\n",
      "\n",
      "x + y"
     ],
     "language": "python",
     "metadata": {},
     "outputs": []
    },
    {
     "cell_type": "code",
     "collapsed": false,
     "input": [
      "# Korrelationen werden von uncertainties beachtet:\n",
      "x = ufloat(3, 1)\n",
      "y = ufloat(3, 1)\n",
      "\n",
      "print(x**2 - y)\n",
      "print(x**2 - x) # Fehler ist kleiner!"
     ],
     "language": "python",
     "metadata": {},
     "outputs": []
    },
    {
     "cell_type": "markdown",
     "metadata": {},
     "source": [
      "`uncertainties.unumpy` erg\u00e4nzt numpy:"
     ]
    },
    {
     "cell_type": "code",
     "collapsed": false,
     "input": [
      "import numpy as np\n",
      "import uncertainties.unumpy as unp\n",
      "\n",
      "x = [1, 2, 3, 4, 5]\n",
      "err = [0.1, 0.3, 0.1, 0.8, 1.0]\n",
      "\n",
      "y = unp.uarray(x, err)\n",
      "\n",
      "unp.cos(unp.exp(y))"
     ],
     "language": "python",
     "metadata": {},
     "outputs": []
    },
    {
     "cell_type": "markdown",
     "metadata": {},
     "source": [
      "Zugriff auf Wert und Standardabweichung mit `n` und `s`:"
     ]
    },
    {
     "cell_type": "code",
     "collapsed": false,
     "input": [
      "x = ufloat(5, 1)\n",
      "print(x.n)\n",
      "print(x.s)"
     ],
     "language": "python",
     "metadata": {},
     "outputs": []
    },
    {
     "cell_type": "markdown",
     "metadata": {},
     "source": [
      "Bei `unumpy` mit `nominal_values` und `std_devs`"
     ]
    },
    {
     "cell_type": "code",
     "collapsed": false,
     "input": [
      "x = unp.uarray([1, 2, 3], [0.3, 0.3, 0.1])\n",
      "print(unp.nominal_values(x))\n",
      "print(unp.std_devs(x))"
     ],
     "language": "python",
     "metadata": {},
     "outputs": []
    },
    {
     "cell_type": "markdown",
     "metadata": {},
     "source": [
      "Kann man nat\u00fcrlich auch abk\u00fcrzen:"
     ]
    },
    {
     "cell_type": "code",
     "collapsed": false,
     "input": [
      "from uncertainties.unumpy import (nominal_values as noms,\n",
      "                                  std_devs as stds)\n",
      "\n",
      "print(noms(x))\n",
      "print(stds(x))"
     ],
     "language": "python",
     "metadata": {},
     "outputs": []
    },
    {
     "cell_type": "markdown",
     "metadata": {},
     "source": [
      "Man muss daran denken, die Funktionen aus unumpy zu benutzen (`exp`, `cos`, etc.)"
     ]
    },
    {
     "cell_type": "code",
     "collapsed": false,
     "input": [
      "unp.cos(x)"
     ],
     "language": "python",
     "metadata": {},
     "outputs": []
    },
    {
     "cell_type": "markdown",
     "metadata": {},
     "source": [
      "# korrelierte Werte"
     ]
    },
    {
     "cell_type": "code",
     "collapsed": false,
     "input": [
      "from uncertainties import correlated_values\n",
      "\n",
      "values = [1, 2]\n",
      "\n",
      "cov = [[0.5, 0.25],\n",
      "       [0.25, 0.2]]\n",
      "\n",
      "x, y = correlated_values(values, cov)"
     ],
     "language": "python",
     "metadata": {},
     "outputs": []
    },
    {
     "cell_type": "markdown",
     "metadata": {},
     "source": [
      "### Vorsicht bei Fits:\n",
      "korrelierte Fit-Parameter f\u00fchren zu nichts-sagenden Ergebnissen. Kontrolle: Kovarianzmatrix."
     ]
    },
    {
     "cell_type": "code",
     "collapsed": false,
     "input": [
      "%matplotlib inline\n",
      "\n",
      "from numpy.random import normal\n",
      "import numpy as np\n",
      "import matplotlib.pyplot as plt\n",
      "plt.rcParams['figure.figsize'] = (10, 8)\n",
      "plt.rcParams['font.size'] = 16\n",
      "from scipy.optimize import curve_fit\n",
      "from uncertainties import correlated_values, correlation_matrix\n",
      "\n",
      "def f1(x, a, b):\n",
      "    return a * np.exp(b * x)\n",
      "\n",
      "def f2(x, a, b, c):\n",
      "    return a * np.exp(b * x + c)\n",
      "\n",
      "x = np.linspace(0, 2, 30)\n",
      "y = 0.5 * np.exp(2 * x) + normal(0, 1, 30)\n",
      "\n",
      "\n",
      "params, cov = curve_fit(f1, x, y)\n",
      "#params, cov = curve_fit(f2, x, y)\n",
      "\n",
      "params = correlated_values(params, cov)\n",
      "\n",
      "for param in params:\n",
      "    print(param)\n",
      "print()\n",
      "print(cov)\n",
      "\n",
      "plt.matshow(correlation_matrix(params))\n",
      "plt.colorbar()"
     ],
     "language": "python",
     "metadata": {},
     "outputs": []
    },
    {
     "cell_type": "markdown",
     "metadata": {},
     "source": [
      "## Vorsicht\n",
      "\n",
      "Man kann keine `ufloat`s plotten:"
     ]
    },
    {
     "cell_type": "code",
     "collapsed": false,
     "input": [
      "x = np.linspace(0, 10)\n",
      "y = unp.uarray(np.linspace(0, 5), 1)\n",
      "\n",
      "#plt.plot(x, y, 'rx')\n",
      "plt.errorbar(x, unp.nominal_values(y), yerr=unp.std_devs(y), fmt='rx')"
     ],
     "language": "python",
     "metadata": {},
     "outputs": []
    },
    {
     "cell_type": "markdown",
     "metadata": {},
     "source": [
      "#Sympy\n",
      "\n",
      "<img src=http://docs.sympy.org/latest/_static/sympylogo.png style=\"width: 300px;\"></img>\n",
      "\n",
      "- Problem: Die Assistenten m\u00f6chten aber trotzdem, dass man alle Ableitungen in das Protokoll schreibt\n",
      "- L\u00f6sung: Ableitungen automatisch generieren"
     ]
    },
    {
     "cell_type": "markdown",
     "metadata": {},
     "source": [
      "SymPy importieren:"
     ]
    },
    {
     "cell_type": "code",
     "collapsed": false,
     "input": [
      "import sympy"
     ],
     "language": "python",
     "metadata": {},
     "outputs": []
    },
    {
     "cell_type": "markdown",
     "metadata": {},
     "source": [
      "Mathematische Variablen erzeugen mit `var()`:"
     ]
    },
    {
     "cell_type": "code",
     "collapsed": false,
     "input": [
      "x, y, z = sympy.var('x y z')\n",
      "\n",
      "x + y + z"
     ],
     "language": "python",
     "metadata": {},
     "outputs": []
    },
    {
     "cell_type": "markdown",
     "metadata": {},
     "source": [
      "Differenzieren mit `diff()`:"
     ]
    },
    {
     "cell_type": "code",
     "collapsed": false,
     "input": [
      "f = x + y**3 - sympy.cos(z)**2\n",
      "\n",
      "print(f.diff(x))\n",
      "print(f.diff(y))\n",
      "print(f.diff(z))\n",
      "print(f.diff(z, z, z))"
     ],
     "language": "python",
     "metadata": {},
     "outputs": []
    },
    {
     "cell_type": "markdown",
     "metadata": {},
     "source": [
      "Eine Funktion, die automatisch die Fehlerformel generiert:"
     ]
    },
    {
     "cell_type": "code",
     "collapsed": false,
     "input": [
      "import sympy\n",
      "\n",
      "def error(f, err_vars=None):\n",
      "    from sympy import Symbol, latex\n",
      "    s = 0\n",
      "    latex_names = dict()\n",
      "    \n",
      "    if err_vars == None:\n",
      "        err_vars = f.free_symbols\n",
      "        \n",
      "    for v in err_vars:\n",
      "        err = Symbol('latex_std_' + v.name)\n",
      "        s += f.diff(v)**2 * err**2\n",
      "        latex_names[err] = '\\\\sigma_{' + latex(v) + '}'\n",
      "        \n",
      "    return latex(sympy.sqrt(s), symbol_names=latex_names)\n",
      "\n",
      "E, q, r = sympy.var('E_x q r')\n",
      "\n",
      "f = E + q**2 * r\n",
      "\n",
      "print(error(f))"
     ],
     "language": "python",
     "metadata": {},
     "outputs": []
    },
    {
     "cell_type": "markdown",
     "metadata": {},
     "source": [
      "$$\\sqrt{\\sigma_{E_{x}}^{2} + 4 \\sigma_{q}^{2} q^{2} r^{2} + \\sigma_{r}^{2} q^{4}}$$"
     ]
    }
   ],
   "metadata": {}
  }
 ]
}