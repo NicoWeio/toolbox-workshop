{
 "cells": [
  {
   "cell_type": "markdown",
   "metadata": {},
   "source": [
    "# Automatisieren von Fehlerrechnung\n",
    "\n",
    "$$ \\sigma_{f} = \\sqrt{\\sum_{i=1}^m \\left( \\frac{\\partial f}{\\partial x_i}\\right)^{\\!2} \\sigma_{x_i}^2} $$\n",
    "\n",
    "- Gesucht: Fehler von $f(x_i)$, wenn $x_i$ Fehler haben\n",
    "- Manuelle Fehlerfortpflanzung:\n",
    " 1. Berechne die Ableitungen von $f$ nach allen fehlerbehafteten Größen $x_i$\n",
    " 2. Ableitungen in die obere Formel einsetzen\n",
    " 3. Werte und Fehler der $x_i$ einsetzen\n",
    "- Probleme:\n",
    " - Kompliziert, dauert lange, man macht oft Fehler\n",
    " - Falsches Ergebnis, wenn $x_i$ korreliert sind\n",
    "\n",
    "$$ \\operatorname{cov}(\\vec{f}) = \\boldsymbol{J} \\operatorname{cov}(\\vec{x})\\, \\boldsymbol{J}^\\top $$\n",
    "\n",
    "$\\boldsymbol{J}$ ist die Jacobimatrix von $\\vec{f}$ nach $\\vec{x}$.\n",
    " \n",
    "## `uncertainties`\n",
    "\n",
    "- Erlaubt es, Fehlerrechnung automatisch durchzuführen\n",
    "- Datentyp: `ufloat`, repräsentiert Wert mit Fehler"
   ]
  },
  {
   "cell_type": "code",
   "execution_count": null,
   "metadata": {},
   "outputs": [],
   "source": [
    "from uncertainties import ufloat\n",
    "\n",
    "x = ufloat(5, 1)\n",
    "y = ufloat(3, 1)\n",
    "\n",
    "x + y"
   ]
  },
  {
   "cell_type": "markdown",
   "metadata": {},
   "source": [
    "Korrelationen werden von uncertainties beachtet:"
   ]
  },
  {
   "cell_type": "code",
   "execution_count": null,
   "metadata": {},
   "outputs": [],
   "source": [
    "x = ufloat(3, 1)\n",
    "y = ufloat(3, 1)\n",
    "\n",
    "print(x - y)\n",
    "print(x - x) # error is zero!\n",
    "\n",
    "print(x == y)"
   ]
  },
  {
   "cell_type": "markdown",
   "metadata": {},
   "source": [
    "`uncertainties.unumpy` ergänzt numpy:"
   ]
  },
  {
   "cell_type": "code",
   "execution_count": null,
   "metadata": {},
   "outputs": [],
   "source": [
    "import numpy as np\n",
    "import uncertainties.unumpy as unp\n",
    "\n",
    "x = [1, 2, 3, 4, 5]\n",
    "err = [0.1, 0.3, 0.1, 0.8, 1.0]\n",
    "\n",
    "y = unp.uarray(x, err)\n",
    "\n",
    "unp.cos(unp.exp(y))"
   ]
  },
  {
   "cell_type": "markdown",
   "metadata": {},
   "source": [
    "Zugriff auf Wert und Standardabweichung mit `n` und `s`:"
   ]
  },
  {
   "cell_type": "code",
   "execution_count": null,
   "metadata": {},
   "outputs": [],
   "source": [
    "x = ufloat(5, 1)\n",
    "print(x.n)\n",
    "print(x.s)"
   ]
  },
  {
   "cell_type": "markdown",
   "metadata": {},
   "source": [
    "Bei `unumpy` mit `nominal_values` und `std_devs`"
   ]
  },
  {
   "cell_type": "code",
   "execution_count": null,
   "metadata": {},
   "outputs": [],
   "source": [
    "x = unp.uarray([1, 2, 3], [0.3, 0.3, 0.1])\n",
    "print(unp.nominal_values(x))\n",
    "print(unp.std_devs(x))"
   ]
  },
  {
   "cell_type": "markdown",
   "metadata": {},
   "source": [
    "Kann man natürlich auch abkürzen:"
   ]
  },
  {
   "cell_type": "code",
   "execution_count": null,
   "metadata": {},
   "outputs": [],
   "source": [
    "from uncertainties.unumpy import (nominal_values as noms,\n",
    "                                  std_devs as stds)\n",
    "\n",
    "print(noms(x))\n",
    "print(stds(x))"
   ]
  },
  {
   "cell_type": "markdown",
   "metadata": {},
   "source": [
    "Man muss daran denken, die Funktionen aus unumpy zu benutzen (`exp`, `cos`, etc.)"
   ]
  },
  {
   "cell_type": "code",
   "execution_count": null,
   "metadata": {},
   "outputs": [],
   "source": [
    "np.cos(x)"
   ]
  },
  {
   "cell_type": "markdown",
   "metadata": {},
   "source": [
    "# Korrelierte Werte"
   ]
  },
  {
   "cell_type": "code",
   "execution_count": null,
   "metadata": {
    "scrolled": true
   },
   "outputs": [],
   "source": [
    "import numpy as np\n",
    "import matplotlib.pyplot as plt\n",
    "plt.rcParams['figure.figsize'] = (8, 4)\n",
    "plt.rcParams['font.size'] = 16\n",
    "\n",
    "x = np.array([90, 60, 45, 100, 15, 23, 52, 30, 71, 88])\n",
    "y = np.array([90, 71, 65, 100, 45, 60, 75, 85, 100, 80])\n",
    "\n",
    "plt.plot(x, y, 'ro')\n",
    "plt.show()"
   ]
  },
  {
   "cell_type": "markdown",
   "metadata": {},
   "source": [
    "\n",
    "vermute eine lineare Korrelation der Messwerte. Stützen der Hypothese mit Korrelationskoeffizient:\n",
    "\n",
    "$$r = \\frac{cov(x, y)}{\\sigma_x \\sigma_y}, \\quad -1 \\leq r \\leq 1$$ "
   ]
  },
  {
   "cell_type": "code",
   "execution_count": null,
   "metadata": {},
   "outputs": [],
   "source": [
    "x_mean = np.mean(x)\n",
    "y_mean = np.mean(y)\n",
    "\n",
    "corr_coeff = sum((x - x_mean) * (y - y_mean)) / np.sqrt(sum((x - x_mean)**2) * sum((y - y_mean)**2))\n",
    "print(corr_coeff)"
   ]
  },
  {
   "cell_type": "markdown",
   "metadata": {},
   "source": [
    "Korrelation zwischen Variablen mit correlated_values erzeugen: "
   ]
  },
  {
   "cell_type": "code",
   "execution_count": null,
   "metadata": {},
   "outputs": [],
   "source": [
    "from uncertainties import correlated_values\n",
    "\n",
    "values = [1, 2]\n",
    "\n",
    "cov = [[0.5, 0.25],\n",
    "       [0.25, 0.2]]\n",
    "\n",
    "x, y = correlated_values(values, cov) "
   ]
  },
  {
   "cell_type": "markdown",
   "metadata": {},
   "source": [
    "### Vorsicht bei Fits:\n",
    "korrelierte Fit-Parameter führen zu nichts-sagenden Ergebnissen. Kontrolle: Korrelationsmatrix."
   ]
  },
  {
   "cell_type": "code",
   "execution_count": 3,
   "metadata": {},
   "outputs": [
    {
     "name": "stdout",
     "output_type": "stream",
     "text": [
      "0.56+/-0.06\n",
      "1.92+/-0.06\n",
      "\n",
      "[[ 0.0034807  -0.00341948]\n",
      " [-0.00341948  0.00342949]]\n"
     ]
    },
    {
     "data": {
      "text/plain": [
       "<matplotlib.colorbar.Colorbar at 0x7fedc39736a0>"
      ]
     },
     "execution_count": 3,
     "metadata": {},
     "output_type": "execute_result"
    },
    {
     "data": {
      "image/png": "[encoded data removed]",
      "text/plain": [
       "<Figure size 576x576 with 2 Axes>"
      ]
     },
     "metadata": {},
     "output_type": "display_data"
    }
   ],
   "source": [
    "%matplotlib inline\n",
    "\n",
    "from numpy.random import normal\n",
    "import numpy as np\n",
    "import matplotlib.pyplot as plt\n",
    "plt.rcParams['figure.figsize'] = (10, 8)\n",
    "plt.rcParams['font.size'] = 16\n",
    "from scipy.optimize import curve_fit\n",
    "from uncertainties import correlated_values, correlation_matrix\n",
    "\n",
    "def f1(x, a, b):\n",
    "    return a * np.exp(b * x)\n",
    "\n",
    "def f2(x, a, b, c):\n",
    "    return a * np.exp(b * x + c)\n",
    "\n",
    "x = np.linspace(0, 2, 30)\n",
    "y = 0.5 * np.exp(2 * x) + normal(0, 1, 30)\n",
    "\n",
    "\n",
    "params, cov = curve_fit(f1, x, y)\n",
    "#params, cov = curve_fit(f2, x, y)\n",
    "\n",
    "params = correlated_values(params, cov)\n",
    "\n",
    "for param in params:\n",
    "    print(param)\n",
    "print()\n",
    "print(cov)\n",
    "\n",
    "plt.matshow(correlation_matrix(params), cmap='seismic')\n",
    "plt.colorbar()"
   ]
  },
  {
   "cell_type": "markdown",
   "metadata": {},
   "source": [
    "## Vorsicht\n",
    "\n",
    "Man kann keine `ufloat`s plotten:"
   ]
  },
  {
   "cell_type": "code",
   "execution_count": null,
   "metadata": {},
   "outputs": [],
   "source": [
    "x = np.linspace(0, 10)\n",
    "y = unp.uarray(np.linspace(0, 5), 1)\n",
    "\n",
    "#plt.plot(x, y, 'rx')\n",
    "plt.errorbar(x, unp.nominal_values(y), yerr=unp.std_devs(y), fmt='rx')"
   ]
  },
  {
   "cell_type": "markdown",
   "metadata": {},
   "source": [
    "# Sympy\n",
    "\n",
    "<img src=http://docs.sympy.org/latest/_static/sympylogo.png style=\"width: 300px;\"></img>\n",
    "\n",
    "- Kann Ableitungen automatisch generieren"
   ]
  },
  {
   "cell_type": "markdown",
   "metadata": {},
   "source": [
    "SymPy importieren:"
   ]
  },
  {
   "cell_type": "code",
   "execution_count": null,
   "metadata": {},
   "outputs": [],
   "source": [
    "import sympy"
   ]
  },
  {
   "cell_type": "markdown",
   "metadata": {},
   "source": [
    "Mathematische Variablen erzeugen mit `var()`:"
   ]
  },
  {
   "cell_type": "code",
   "execution_count": null,
   "metadata": {},
   "outputs": [],
   "source": [
    "x, y, z = sympy.var('x y z')\n",
    "\n",
    "x + y + z"
   ]
  },
  {
   "cell_type": "markdown",
   "metadata": {},
   "source": [
    "Differenzieren mit `diff()`:"
   ]
  },
  {
   "cell_type": "code",
   "execution_count": null,
   "metadata": {},
   "outputs": [],
   "source": [
    "f = x + y**3 - sympy.cos(z)**2\n",
    "\n",
    "print(f.diff(x))\n",
    "print(f.diff(y))\n",
    "print(f.diff(z))\n",
    "print(f.diff(z, z, z))"
   ]
  },
  {
   "cell_type": "markdown",
   "metadata": {},
   "source": [
    "Eine Funktion, die automatisch die Fehlerformel generiert:"
   ]
  },
  {
   "cell_type": "code",
   "execution_count": null,
   "metadata": {},
   "outputs": [],
   "source": [
    "import sympy\n",
    "\n",
    "def error(f, err_vars=None):\n",
    "    from sympy import Symbol, latex\n",
    "    s = 0\n",
    "    latex_names = dict()\n",
    "    \n",
    "    if err_vars == None:\n",
    "        err_vars = f.free_symbols\n",
    "        \n",
    "    for v in err_vars:\n",
    "        err = Symbol('latex_std_' + v.name)\n",
    "        s += f.diff(v)**2 * err**2\n",
    "        latex_names[err] = '\\\\sigma_{' + latex(v) + '}'\n",
    "        \n",
    "    return latex(sympy.sqrt(s), symbol_names=latex_names)\n",
    "\n",
    "E, q, r = sympy.var('E_x q r')\n",
    "\n",
    "f = E + q**2 * r\n",
    "\n",
    "print(f)\n",
    "print(error(f))\n",
    "print()"
   ]
  },
  {
   "cell_type": "markdown",
   "metadata": {},
   "source": [
    "$$f= E + q^2 r \\quad\\rightarrow\\quad \\sigma_f = \\sqrt{\\sigma_{E_{x}}^{2} + 4 \\sigma_{q}^{2} q^{2} r^{2} + \\sigma_{r}^{2} q^{4}}$$"
   ]
  }
 ],
 "metadata": {
  "anaconda-cloud": {},
  "kernelspec": {
   "display_name": "Python 3",
   "language": "python",
   "name": "python3"
  },
  "language_info": {
   "codemirror_mode": {
    "name": "ipython",
    "version": 3
   },
   "file_extension": ".py",
   "mimetype": "text/x-python",
   "name": "python",
   "nbconvert_exporter": "python",
   "pygments_lexer": "ipython3",
   "version": "3.6.5"
  }
 },
 "nbformat": 4,
 "nbformat_minor": 1
}
