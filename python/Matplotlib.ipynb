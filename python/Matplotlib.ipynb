{
 "metadata": {
  "name": "",
  "signature": "sha256:567ff43903e367468af3109db45971a96debda3324c908c36d3bd56fe8198967"
 },
 "nbformat": 3,
 "nbformat_minor": 0,
 "worksheets": [
  {
   "cells": [
    {
     "cell_type": "markdown",
     "metadata": {},
     "source": [
      "# Datenvisualisierung mit\n",
      "\n",
      "![Matplotlib](http://upload.wikimedia.org/wikipedia/en/5/56/Matplotlib_logo.svg)"
     ]
    },
    {
     "cell_type": "markdown",
     "metadata": {},
     "source": [
      "\u00d6ffnet ein Terminal (auf Windows: Git-Bash) und gebt `ipython` ein,\n",
      "f\u00fcr farbige Darstellung, bessere Autovervollst\u00e4ndigung und direktes anzeigen der Dokumentation:\n",
      "`ipython qtconsole`, l\u00e4sst sich bei Windows Anaconda-Version auch direkt starten."
     ]
    },
    {
     "cell_type": "markdown",
     "metadata": {},
     "source": [
      "Als erstes: IPython interaktiv machen:"
     ]
    },
    {
     "cell_type": "code",
     "collapsed": false,
     "input": [
      "%matplotlib inline\n",
      "# bei euch: %maplotlib qt"
     ],
     "language": "python",
     "metadata": {},
     "outputs": []
    },
    {
     "cell_type": "markdown",
     "metadata": {},
     "source": [
      "Man kann beliebige Python-Kommandos eingeben.\n",
      "\n",
      "Um mit Matplotlib arbeiten zu k\u00f6nnen, muss die Bibliothek erst einmal importiert werden. Damit wir nicht so viel tippen m\u00fcssen geben wir ihr einen k\u00fcrzeren Namen:"
     ]
    },
    {
     "cell_type": "code",
     "collapsed": false,
     "input": [
      "import matplotlib.pyplot as plt"
     ],
     "language": "python",
     "metadata": {},
     "outputs": []
    },
    {
     "cell_type": "markdown",
     "metadata": {},
     "source": [
      "Au\u00dferdem brauchen wir ein paar Funktion aus `numpy`, die euch schon bekannt sind"
     ]
    },
    {
     "cell_type": "code",
     "collapsed": false,
     "input": [
      "import numpy as np"
     ],
     "language": "python",
     "metadata": {},
     "outputs": []
    },
    {
     "cell_type": "markdown",
     "metadata": {},
     "source": [
      "Ein einfaches Beispiel: $f(x)=x^2$"
     ]
    },
    {
     "cell_type": "code",
     "collapsed": false,
     "input": [
      "x = np.linspace(0, 1) # gibt 50 Zahlen in gleichm\u00e4\u00dfigem Abstand von 0-1\n",
      "plt.plot(x, x**2)\n",
      "# Falls nicht interaktiv: \n",
      "# plt.show()"
     ],
     "language": "python",
     "metadata": {},
     "outputs": []
    },
    {
     "cell_type": "markdown",
     "metadata": {},
     "source": [
      "Anderes Beispiel: $\\sin(t)$ mit verschiedenen Stilen. Vorsicht, die Funktionen und Pi sind Bestandteil von `numpy`"
     ]
    },
    {
     "cell_type": "code",
     "collapsed": false,
     "input": [
      "t = np.linspace(0, 2 * np.pi)\n",
      "#plt.plot(t, np.sin(t))\n",
      "plt.plot(t, np.sin(t), 'r--')\n",
      "#plt.plot(t, np.sin(t), 'go')"
     ],
     "language": "python",
     "metadata": {},
     "outputs": []
    },
    {
     "cell_type": "markdown",
     "metadata": {},
     "source": [
      "Tabelle mit allen Farben und Styles: [matplotlib.axes.Axes.plot](http://matplotlib.org/api/axes_api.html#matplotlib.axes.Axes.plot)\n",
      "\n",
      "Neue Grenzen mit `xlim(a,b)` und `ylim(a,b)`"
     ]
    },
    {
     "cell_type": "code",
     "collapsed": false,
     "input": [
      "plt.plot(t, np.sin(t))\n",
      "plt.xlim(0, 2 * np.pi)\n",
      "plt.ylim(-1.2, 1.2)"
     ],
     "language": "python",
     "metadata": {},
     "outputs": []
    },
    {
     "cell_type": "markdown",
     "metadata": {},
     "source": [
      "## Es fehlt noch etwas...\n",
      "![XKCD comic on why you should label your axes.](http://imgs.xkcd.com/comics/convincing.png \"And if you labeled your axes, I could tell you exactly how MUCH better.\")"
     ]
    },
    {
     "cell_type": "code",
     "collapsed": false,
     "input": [
      "with plt.xkcd():\n",
      "    plt.plot(t, np.sin(t))\n",
      "    plt.xlabel('t')\n",
      "    plt.ylabel('sin(t)')\n",
      "    plt.ylim(-1.1, 1.1)\n",
      "    plt.xlim(0, 2*np.pi)"
     ],
     "language": "python",
     "metadata": {},
     "outputs": []
    },
    {
     "cell_type": "markdown",
     "metadata": {},
     "source": [
      "Achsen-Beschriftungen k\u00f6nnen mit LaTeX-Code erstellt werden -> LaTeX-Kurs in der n\u00e4chsten Woche."
     ]
    },
    {
     "cell_type": "code",
     "collapsed": false,
     "input": [
      "plot(t, np.sin(t))\n",
      "xlabel('$t$')\n",
      "ylabel(r'$\\sin(t)$')"
     ],
     "language": "python",
     "metadata": {},
     "outputs": []
    },
    {
     "cell_type": "markdown",
     "metadata": {},
     "source": [
      "Legenden f\u00fcr Objekte die ein `label` tragen"
     ]
    },
    {
     "cell_type": "code",
     "collapsed": false,
     "input": [
      "plt.plot(t, np.sin(t), label=r'$\\sin(t)$')\n",
      "plt.legend()\n",
      "#legend(loc='lower left')"
     ],
     "language": "python",
     "metadata": {},
     "outputs": []
    },
    {
     "cell_type": "markdown",
     "metadata": {},
     "source": [
      "Mit `grid()` wird ein Gitter erstellt:"
     ]
    },
    {
     "cell_type": "code",
     "collapsed": false,
     "input": [
      "plt.plot(t, np.sin(t), label=r'$\\sin(t)$')\n",
      "plt.legend()\n",
      "plt.grid()\n",
      "#legend(loc='lower left')"
     ],
     "language": "python",
     "metadata": {},
     "outputs": []
    },
    {
     "cell_type": "markdown",
     "metadata": {},
     "source": [
      "## `x` und `f(x)` sind einfach nur Datenpunkte:"
     ]
    },
    {
     "cell_type": "code",
     "collapsed": false,
     "input": [
      "x = np.array([1, 2, 3, 4])\n",
      "x\n",
      "#x**2\n",
      "#plot(x, x**2, 'ro-')"
     ],
     "language": "python",
     "metadata": {},
     "outputs": []
    },
    {
     "cell_type": "markdown",
     "metadata": {},
     "source": [
      "## Laden von Daten"
     ]
    },
    {
     "cell_type": "code",
     "collapsed": false,
     "input": [
      "x, y = np.genfromtxt('example_data.txt', unpack=True) # unpack=True falls Daten spaltenweise angeordnet sind\n",
      "plt.plot(x, y, 'k.')\n",
      "\n",
      "t = linspace(0, 10)\n",
      "plt.plot(t, 5 * t, 'r-')"
     ],
     "language": "python",
     "metadata": {},
     "outputs": []
    },
    {
     "cell_type": "markdown",
     "metadata": {},
     "source": [
      "## Auslagern in ein Skript\n",
      "Speichert den folgenden Code in eine Textdatei `plot.py` ab.\n",
      "\n",
      "\u00d6ffnet ein Terminal und startet das Programm:\n",
      "    \n",
      "    python plot.py"
     ]
    },
    {
     "cell_type": "code",
     "collapsed": false,
     "input": [
      "import matplotlib.pyplot as plt\n",
      "import numpy as np\n",
      "\n",
      "x = np.linspace(0, 1)\n",
      "plt.plot(x, x**2, 'b-')\n",
      "plt.savefig('plot.pdf')"
     ],
     "language": "python",
     "metadata": {},
     "outputs": []
    },
    {
     "cell_type": "markdown",
     "metadata": {},
     "source": [
      "Mit `savefig` speichert man die Abbildung.\n",
      "\n",
      "In diesem Fall sollte die Datei `plot.pdf` erstellt worden sein.\n",
      "\n",
      "Es gibt viele Ausgabeformate: `pdf`, `png`, `svg`, LaTeX"
     ]
    },
    {
     "cell_type": "markdown",
     "metadata": {},
     "source": [
      "## Komplexere Abbildungen\n",
      "Nat\u00fcrlich kann man mehrere Linien in einen Plot packen:"
     ]
    },
    {
     "cell_type": "code",
     "collapsed": false,
     "input": [
      "x = np.linspace(0, 1)\n",
      "\n",
      "plt.plot(x, x**2, label='$x^2$')\n",
      "plt.plot(x, x**4)\n",
      "plt.plot(x, x**6, 'o', label='$x^6$')\n",
      "\n",
      "plt.legend(loc='best')"
     ],
     "language": "python",
     "metadata": {},
     "outputs": []
    },
    {
     "cell_type": "markdown",
     "metadata": {},
     "source": [
      "Es werden nur die Plots in der Legende angezeigt, die ein Label haben."
     ]
    },
    {
     "cell_type": "markdown",
     "metadata": {},
     "source": [
      "Man kann auch mehrere Plots in ein Bild packen:"
     ]
    },
    {
     "cell_type": "code",
     "collapsed": false,
     "input": [
      "x = np.linspace(0, 2 * pi)\n",
      "\n",
      "# Anzahl Zeile, Anzahl Spalten, Nummer des Plots\n",
      "plt.subplot(2, 1, 1)\n",
      "plt.plot(x, x**2)\n",
      "plt.xlim(0, 2 * pi)\n",
      "\n",
      "plt.subplot(2, 1, 2)\n",
      "plt.plot(x, np.sin(x))\n",
      "plt.xlim(0, 2 * pi)"
     ],
     "language": "python",
     "metadata": {},
     "outputs": []
    },
    {
     "cell_type": "markdown",
     "metadata": {},
     "source": [
      "Dies f\u00fchrt manchmal zu Spacing-Problemen und Teilen die sich \u00fcberscheneiden, L\u00f6sung: plt.tight_layout()"
     ]
    },
    {
     "cell_type": "code",
     "collapsed": false,
     "input": [
      "x = np.linspace(0, 2 * pi)\n",
      "\n",
      "# Anzahl Zeile, Anzahl Spalten, Nummer des Plots\n",
      "plt.subplot(2, 1, 1)\n",
      "plt.plot(x, x**2)\n",
      "plt.xlim(0, 2 * pi)\n",
      "plt.title(\"$f(x)=x^2$\")\n",
      "\n",
      "plt.subplot(2, 1, 2)\n",
      "plt.plot(x, sin(x))\n",
      "plt.xlim(0, 2 * pi)\n",
      "plt.title(\"$f(x)=\\sin(x)$\")\n",
      "\n",
      "plt.tight_layout()"
     ],
     "language": "python",
     "metadata": {},
     "outputs": []
    },
    {
     "cell_type": "markdown",
     "metadata": {},
     "source": [
      "Plot im Plot:"
     ]
    },
    {
     "cell_type": "code",
     "collapsed": false,
     "input": [
      "plt.plot(x, x**2)\n",
      "\n",
      "# Koordinaten relativ zum Plot (0,0) links unten (1,1) rechts oben\n",
      "plt.axes([0.2, 0.45, 0.3, 0.3])\n",
      "plt.plot(x, x**3)"
     ],
     "language": "python",
     "metadata": {},
     "outputs": []
    },
    {
     "cell_type": "markdown",
     "metadata": {},
     "source": [
      "## Plots mit Fehlerbalken\n",
      "Sehr h\u00e4ufig werden im Praktikum Plots mit Fehlerbalken ben\u00f6tigt:"
     ]
    },
    {
     "cell_type": "code",
     "collapsed": false,
     "input": [
      "x = np.linspace(0, 2 * pi, 10)\n",
      "errX = 0.4 * randn(10)\n",
      "errY = 0.4 * randn(10)\n",
      "\n",
      "plt.errorbar(x + errX, x + errY, xerr=0.4, yerr=0.4, fmt='o')"
     ],
     "language": "python",
     "metadata": {},
     "outputs": []
    },
    {
     "cell_type": "markdown",
     "metadata": {},
     "source": [
      "## Achsen-Skalierung\n",
      "Logarithmische (und auch viele andere) Skalierung der Achsen ist auch m\u00f6glich:"
     ]
    },
    {
     "cell_type": "code",
     "collapsed": false,
     "input": [
      "x = np.linspace(0, 10)\n",
      "\n",
      "plt.plot(x, np.exp(-x))\n",
      "plt.yscale('log')\n",
      "# plt.xscale('log')"
     ],
     "language": "python",
     "metadata": {},
     "outputs": []
    },
    {
     "cell_type": "markdown",
     "metadata": {},
     "source": [
      "## Polar-Plot\n",
      "Manchmal braucht man einen Polarplot:"
     ]
    },
    {
     "cell_type": "code",
     "collapsed": false,
     "input": [
      "r = np.linspace(0, 10, 1000)\n",
      "#r = linspace(0, 10, 50)\n",
      "theta = 2 * np.pi * r\n",
      "\n",
      "plt.polar(theta, r)"
     ],
     "language": "python",
     "metadata": {},
     "outputs": []
    },
    {
     "cell_type": "markdown",
     "metadata": {},
     "source": [
      "# Ticks\n",
      "Man kann sehr viele Sachen mit Ticks machen\u2026"
     ]
    },
    {
     "cell_type": "code",
     "collapsed": false,
     "input": [
      "x = np.linspace(0, 2 * np.pi)\n",
      "\n",
      "plot(x, np.sin(x))\n",
      "xlim(0, 2 * np.pi)\n",
      "# erste Liste: Tick-Positionen, zweite Liste: Tick-Beschriftung\n",
      "xticks([0, np.pi / 2, np.pi, 3 * np.pi / 2, 2 * np.pi], [r\"$0$\", r\"$\\frac{\\tau}{4}$\", r\"$\\frac{\\tau}{2}$\", r\"$\\frac{3\\tau}{4}$\", r\"$\\tau$\"])\n",
      "title(r\"$\\tau$ FTW!\")"
     ],
     "language": "python",
     "metadata": {},
     "outputs": []
    },
    {
     "cell_type": "code",
     "collapsed": false,
     "input": [
      "months = ['January',\n",
      "          'February',\n",
      "          'March',\n",
      "          'April',\n",
      "          'May',\n",
      "          'June',\n",
      "          'July',\n",
      "          'August',\n",
      "          'September',\n",
      "          'October',\n",
      "          'November',\n",
      "          'December']\n",
      "\n",
      "plt.plot(np.arange(12), rand(12))\n",
      "plt.xticks(np.arange(12), months, rotation=45, rotation_mode='anchor', ha='right', va='top')\n",
      "plt.xlim(0, 11)"
     ],
     "language": "python",
     "metadata": {},
     "outputs": []
    },
    {
     "cell_type": "markdown",
     "metadata": {},
     "source": [
      "# Histogramme\n",
      "Sehr h\u00e4ufig braucht man Histogramme."
     ]
    },
    {
     "cell_type": "code",
     "collapsed": false,
     "input": [
      "# Zufallsdaten generieren:\n",
      "x = np.random.normal(0, 1, 1000)\n",
      "plt.hist(x)"
     ],
     "language": "python",
     "metadata": {},
     "outputs": []
    },
    {
     "cell_type": "markdown",
     "metadata": {},
     "source": [
      "Anzahl der Bins und den Bereich festlegen:"
     ]
    },
    {
     "cell_type": "code",
     "collapsed": false,
     "input": [
      "plt.hist(x, bins=20, range=[-3,3])"
     ],
     "language": "python",
     "metadata": {},
     "outputs": []
    },
    {
     "cell_type": "markdown",
     "metadata": {},
     "source": [
      "M\u00f6chte man mehre Datensets unterschiedlicher Gr\u00f6\u00dfe vergleichen, muss man normieren und das gleiche \"Binning\" w\u00e4hlen."
     ]
    },
    {
     "cell_type": "code",
     "collapsed": false,
     "input": [
      "y = np.random.normal(0, 1, 100)\n",
      "plt.hist(x, bins=20, range=[-3,3], normed=True)\n",
      "plt.hist(y, bins=20, range=[-3,3], normed=True)"
     ],
     "language": "python",
     "metadata": {},
     "outputs": []
    },
    {
     "cell_type": "markdown",
     "metadata": {},
     "source": [
      "geht noch sch\u00f6ner:"
     ]
    },
    {
     "cell_type": "code",
     "collapsed": false,
     "input": [
      "y = np.random.normal(0, 1, 100)\n",
      "plt.hist(x, bins=20, range=[-3,3], normed=True, histtype='step')\n",
      "plt.hist(y, bins=20, range=[-3,3], normed=True, histtype='step')"
     ],
     "language": "python",
     "metadata": {},
     "outputs": []
    },
    {
     "cell_type": "code",
     "collapsed": false,
     "input": [],
     "language": "python",
     "metadata": {},
     "outputs": []
    }
   ],
   "metadata": {}
  }
 ]
}