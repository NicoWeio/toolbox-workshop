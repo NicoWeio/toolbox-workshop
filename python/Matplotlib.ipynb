{
 "metadata": {
  "name": "",
  "signature": "sha256:c5d8fa9c3f3b3d4b0b7e81cfcd013f5c35b202b306d1c4a95cfb447ebd5e6e02"
 },
 "nbformat": 3,
 "nbformat_minor": 0,
 "worksheets": [
  {
   "cells": [
    {
     "cell_type": "markdown",
     "metadata": {},
     "source": [
      "# Datenvisualisierung mit\n",
      "\n",
      "![Matplotlib](http://upload.wikimedia.org/wikipedia/en/5/56/Matplotlib_logo.svg)"
     ]
    },
    {
     "cell_type": "markdown",
     "metadata": {},
     "source": [
      "\u00d6ffnet ein Terminal (auf Windows: Git-Bash) und gebt `ipython` ein,\n",
      "f\u00fcr farbige Darstellung, bessere Autovervollst\u00e4ndigung und direktes anzeigen der Dokumentation:\n",
      "`ipython qtconsole`, l\u00e4sst sich bei Windows Anaconda-Version auch direkt starten."
     ]
    },
    {
     "cell_type": "markdown",
     "metadata": {},
     "source": [
      "Als erstes: IPython interaktiv machen:"
     ]
    },
    {
     "cell_type": "code",
     "collapsed": false,
     "input": [
      "%matplotlib inline\n",
      "# bei euch: %maplotlib qt\n",
      "# <- dieses Symbol leitet einen Kommentar ein (wird nicht ber\u00fccksichtigt)"
     ],
     "language": "python",
     "metadata": {},
     "outputs": [],
     "prompt_number": 1
    },
    {
     "cell_type": "markdown",
     "metadata": {},
     "source": [
      "Man kann beliebige Python-Kommandos eingeben.\n",
      "\n",
      "Um mit Matplotlib arbeiten zu k\u00f6nnen, muss die Bibliothek erst einmal importiert werden:"
     ]
    },
    {
     "cell_type": "code",
     "collapsed": false,
     "input": [
      "from pylab import *"
     ],
     "language": "python",
     "metadata": {},
     "outputs": [],
     "prompt_number": 2
    },
    {
     "cell_type": "markdown",
     "metadata": {},
     "source": [
      "Dies importiert jede Funktion aus pylab, welches Matplotlib, Numpy und Scipy enth\u00e4lt. Dazu sp\u00e4ter mehr ...\n",
      "Der import mit * sollte nur in kleinen Scripten oder in IPython benutzt werden.\n",
      "\n",
      "Ein einfaches Beispiel: $f(x)=x^2$"
     ]
    },
    {
     "cell_type": "code",
     "collapsed": false,
     "input": [
      "x = linspace(0, 1) # gibt 50 Zahlen in gleichm\u00e4\u00dfigem Abstand von 0-1\n",
      "plot(x, x**2)\n",
      "# Falls nicht interaktiv: show()"
     ],
     "language": "python",
     "metadata": {},
     "outputs": [
      {
       "metadata": {},
       "output_type": "pyout",
       "prompt_number": 3,
       "text": [
        "[<matplotlib.lines.Line2D at 0x72b9588>]"
       ]
      },
      {
       "metadata": {},
       "output_type": "display_data",
       "png": "[encoded data removed]",
       "text": [
        "<matplotlib.figure.Figure at 0x7253b70>"
       ]
      }
     ],
     "prompt_number": 3
    },
    {
     "cell_type": "markdown",
     "metadata": {},
     "source": [
      "Anderes Beispiel: $\\sin(t)$"
     ]
    },
    {
     "cell_type": "code",
     "collapsed": false,
     "input": [
      "t = linspace(0, 2 * pi)\n",
      "#plot(t, sin(t))\n",
      "plot(t, sin(t), 'r--')\n",
      "#plot(t, sin(t), 'go')"
     ],
     "language": "python",
     "metadata": {},
     "outputs": [
      {
       "metadata": {},
       "output_type": "pyout",
       "prompt_number": 4,
       "text": [
        "[<matplotlib.lines.Line2D at 0x7664f28>]"
       ]
      },
      {
       "metadata": {},
       "output_type": "display_data",
       "png": "[encoded data removed]",
       "text": [
        "<matplotlib.figure.Figure at 0x7271a20>"
       ]
      }
     ],
     "prompt_number": 4
    },
    {
     "cell_type": "markdown",
     "metadata": {},
     "source": [
      "Tabelle mit allen Farben und Styles: [matplotlib.axes.Axes.plot](http://matplotlib.org/api/axes_api.html#matplotlib.axes.Axes.plot)\n",
      "\n",
      "Neue Grenzen mit `xlim(a,b)` und `ylim(a,b)`"
     ]
    },
    {
     "cell_type": "code",
     "collapsed": false,
     "input": [
      "plot(t, sin(t))\n",
      "xlim(0, 2 * pi)\n",
      "ylim(-1.2, 1.2)"
     ],
     "language": "python",
     "metadata": {},
     "outputs": [
      {
       "metadata": {},
       "output_type": "pyout",
       "prompt_number": 5,
       "text": [
        "(-1.2, 1.2)"
       ]
      },
      {
       "metadata": {},
       "output_type": "display_data",
       "png": "[encoded data removed]",
       "text": [
        "<matplotlib.figure.Figure at 0x767b390>"
       ]
      }
     ],
     "prompt_number": 5
    },
    {
     "cell_type": "markdown",
     "metadata": {},
     "source": [
      "## Es fehlt noch etwas...\n",
      "![XKCD comic on why you should label your axes.](http://imgs.xkcd.com/comics/convincing.png \"And if you labeled your axes, I could tell you exactly how MUCH better.\")"
     ]
    },
    {
     "cell_type": "code",
     "collapsed": false,
     "input": [
      "with xkcd():\n",
      "    plot(t, sin(t))\n",
      "    xlabel('t')\n",
      "    ylabel('sin(t)')\n",
      "    ylim(-1.1, 1.1)\n",
      "    xlim(0, 2*pi)"
     ],
     "language": "python",
     "metadata": {},
     "outputs": [
      {
       "metadata": {},
       "output_type": "display_data",
       "png": "[encoded data removed]",
       "text": [
        "<matplotlib.figure.Figure at 0x77ca470>"
       ]
      }
     ],
     "prompt_number": 9
    },
    {
     "cell_type": "markdown",
     "metadata": {},
     "source": [
      "Achsen-Beschriftungen k\u00f6nnen mit LaTeX-Code erstellt werden -> LaTeX-Kurs in der n\u00e4chsten Woche."
     ]
    },
    {
     "cell_type": "code",
     "collapsed": false,
     "input": [
      "plot(t, sin(t))\n",
      "xlabel('$t$')\n",
      "ylabel(r'$\\sin(t)$')"
     ],
     "language": "python",
     "metadata": {},
     "outputs": [
      {
       "metadata": {},
       "output_type": "pyout",
       "prompt_number": 10,
       "text": [
        "<matplotlib.text.Text at 0x7f43358>"
       ]
      },
      {
       "metadata": {},
       "output_type": "display_data",
       "png": "[encoded data removed]",
       "text": [
        "<matplotlib.figure.Figure at 0x7341048>"
       ]
      }
     ],
     "prompt_number": 10
    },
    {
     "cell_type": "markdown",
     "metadata": {},
     "source": [
      "Legenden f\u00fcr Objekte die ein `label` tragen"
     ]
    },
    {
     "cell_type": "code",
     "collapsed": false,
     "input": [
      "plot(t, sin(t), label=r'$\\sin(t)$')\n",
      "legend()\n",
      "#legend(loc='lower left')"
     ],
     "language": "python",
     "metadata": {},
     "outputs": []
    },
    {
     "cell_type": "markdown",
     "metadata": {},
     "source": [
      "Mit `grid()` wird ein Gitter erstellt:"
     ]
    },
    {
     "cell_type": "code",
     "collapsed": false,
     "input": [
      "plot(t, sin(t), label=r'$\\sin(t)$')\n",
      "legend()\n",
      "grid()\n",
      "#legend(loc='lower left')"
     ],
     "language": "python",
     "metadata": {},
     "outputs": [],
     "prompt_number": 6
    },
    {
     "cell_type": "markdown",
     "metadata": {},
     "source": [
      "## `x` und `f(x)` sind einfach nur Datenpunkte:"
     ]
    },
    {
     "cell_type": "code",
     "collapsed": false,
     "input": [
      "x = array([1, 2, 3, 4])\n",
      "x\n",
      "#x**2\n",
      "#plot(x, x**2, 'ro-')"
     ],
     "language": "python",
     "metadata": {},
     "outputs": []
    },
    {
     "cell_type": "markdown",
     "metadata": {},
     "source": [
      "## Laden von Daten"
     ]
    },
    {
     "cell_type": "code",
     "collapsed": false,
     "input": [
      "x, y = loadtxt('example_data.txt', unpack=True) # unpack=True falls Daten spaltenweise angeordnet sind\n",
      "plot(x, y, 'k.')\n",
      "\n",
      "t = linspace(0, 10)\n",
      "plot(t, 5 * t, 'r-')"
     ],
     "language": "python",
     "metadata": {},
     "outputs": []
    },
    {
     "cell_type": "markdown",
     "metadata": {},
     "source": [
      "## Auslagern in ein Skript\n",
      "Speichert den folgenden Code in eine Textdatei `plot.py` ab.\n",
      "\n",
      "\u00d6ffnet ein Terminal und startet das Programm:\n",
      "    \n",
      "    python plot.py"
     ]
    },
    {
     "cell_type": "code",
     "collapsed": false,
     "input": [
      "from pylab import *\n",
      "\n",
      "x = linspace(0, 1)\n",
      "plot(x, x**2, 'b-')\n",
      "savefig('plot.pdf')"
     ],
     "language": "python",
     "metadata": {},
     "outputs": []
    },
    {
     "cell_type": "markdown",
     "metadata": {},
     "source": [
      "Mit `savefig` speichert man die Abbildung.\n",
      "\n",
      "In diesem Fall sollte die Datei `plot.pdf` erstellt worden sein.\n",
      "\n",
      "Es gibt viele Ausgabeformate: `pdf`, `png`, `svg`, LaTeX"
     ]
    },
    {
     "cell_type": "markdown",
     "metadata": {},
     "source": [
      "## Komplexere Abbildungen\n",
      "Nat\u00fcrlich kann man mehrere Linien in einen Plot packen:"
     ]
    },
    {
     "cell_type": "code",
     "collapsed": false,
     "input": [
      "x = linspace(0, 1)\n",
      "\n",
      "plot(x, x**2, label='$x^2$')\n",
      "plot(x, x**4)\n",
      "plot(x, x**6, 'o', label='$x^6$')\n",
      "\n",
      "legend(loc='best')"
     ],
     "language": "python",
     "metadata": {},
     "outputs": []
    },
    {
     "cell_type": "markdown",
     "metadata": {},
     "source": [
      "Es werden nur die Linien in der Legende angezeigt, die einen Label haben."
     ]
    },
    {
     "cell_type": "markdown",
     "metadata": {},
     "source": [
      "Man kann auch mehrere Plots in ein Bild packen:"
     ]
    },
    {
     "cell_type": "code",
     "collapsed": false,
     "input": [
      "x = linspace(0, 2 * pi)\n",
      "\n",
      "# Anzahl Zeile, Anzahl Spalten, Nummer des Plots\n",
      "subplot(1, 2, 1)\n",
      "plot(x, x**2)\n",
      "xlim(0, 2 * pi)\n",
      "\n",
      "subplot(1, 2, 2)\n",
      "plot(x, sin(x))\n",
      "xlim(0, 2 * pi)"
     ],
     "language": "python",
     "metadata": {},
     "outputs": [
      {
       "metadata": {},
       "output_type": "pyout",
       "prompt_number": 1,
       "text": [
        "(0, 6.283185307179586)"
       ]
      }
     ],
     "prompt_number": 1
    },
    {
     "cell_type": "markdown",
     "metadata": {},
     "source": [
      "Plot im Plot:"
     ]
    },
    {
     "cell_type": "code",
     "collapsed": false,
     "input": [
      "plot(x, x**2)\n",
      "\n",
      "axes([0.2, 0.45, 0.3, 0.3])\n",
      "plot(x, x**3)"
     ],
     "language": "python",
     "metadata": {},
     "outputs": []
    },
    {
     "cell_type": "markdown",
     "metadata": {},
     "source": [
      "Fehlerbalken sind ganz wichtig:"
     ]
    },
    {
     "cell_type": "code",
     "collapsed": false,
     "input": [
      "x = linspace(0, 2 * pi, 10)\n",
      "errX = 0.4 * randn(10)\n",
      "errY = 0.4 * randn(10)\n",
      "\n",
      "errorbar(x + errX, x + errY, xerr=0.4, yerr=0.4, fmt='o')"
     ],
     "language": "python",
     "metadata": {},
     "outputs": []
    },
    {
     "cell_type": "markdown",
     "metadata": {},
     "source": [
      "Logarithmische (und auch viele andere) Skalierung der Achsen ist auch m\u00f6glich:"
     ]
    },
    {
     "cell_type": "code",
     "collapsed": false,
     "input": [
      "x = linspace(0, 10)\n",
      "\n",
      "plot(x, exp(-x))\n",
      "yscale('log')\n",
      "#xscale('log')"
     ],
     "language": "python",
     "metadata": {},
     "outputs": []
    },
    {
     "cell_type": "markdown",
     "metadata": {},
     "source": [
      "Manchmal braucht man einen Polarplot:"
     ]
    },
    {
     "cell_type": "code",
     "collapsed": false,
     "input": [
      "r = linspace(0, 10, 1000)\n",
      "#r = linspace(0, 10, 50)\n",
      "theta = 2 * pi * r\n",
      "\n",
      "polar(theta, r)"
     ],
     "language": "python",
     "metadata": {},
     "outputs": [
      {
       "metadata": {},
       "output_type": "pyout",
       "prompt_number": 2,
       "text": [
        "[<matplotlib.lines.Line2D at 0x7db7b38>]"
       ]
      }
     ],
     "prompt_number": 2
    },
    {
     "cell_type": "markdown",
     "metadata": {},
     "source": [
      "Man kann sehr viele Sachen mit Ticks machen\u2026"
     ]
    },
    {
     "cell_type": "code",
     "collapsed": false,
     "input": [
      "x = linspace(0, 2 * pi)\n",
      "\n",
      "plot(x, sin(x))\n",
      "xlim(0, 2 * pi)\n",
      "# erste Liste: Tick-Positionen, zweite Liste: Tick-Beschriftung\n",
      "xticks([0, pi / 2, pi, 3 * pi / 2, 2 * pi], [r\"$0$\", r\"$\\frac{\\tau}{4}$\", r\"$\\frac{\\tau}{2}$\", r\"$\\frac{3\\tau}{4}$\", r\"$\\tau$\"])\n",
      "title(r\"$\\tau$ FTW!\")"
     ],
     "language": "python",
     "metadata": {},
     "outputs": [
      {
       "metadata": {},
       "output_type": "pyout",
       "prompt_number": 3,
       "text": [
        "<matplotlib.text.Text at 0x7509518>"
       ]
      }
     ],
     "prompt_number": 3
    },
    {
     "cell_type": "code",
     "collapsed": false,
     "input": [
      "months = ['January',\n",
      "          'February',\n",
      "          'March',\n",
      "          'April',\n",
      "          'May',\n",
      "          'June',\n",
      "          'July',\n",
      "          'August',\n",
      "          'September',\n",
      "          'October',\n",
      "          'November',\n",
      "          'December']\n",
      "\n",
      "plot(arange(12), rand(12))\n",
      "xticks(arange(12), months, rotation=45, rotation_mode='anchor', ha='right', va='top')\n",
      "xlim(0, 11)"
     ],
     "language": "python",
     "metadata": {},
     "outputs": [
      {
       "metadata": {},
       "output_type": "pyout",
       "prompt_number": 1,
       "text": [
        "(0, 11)"
       ]
      }
     ],
     "prompt_number": 1
    },
    {
     "cell_type": "markdown",
     "metadata": {},
     "source": [
      "`tight_layout()` sollte vor jedem speichern gerufen werden. Es Arrangiert eure geplotten Objekte so, dass nichts \u00fcberlappt und die ganze Zeichenfl\u00e4che m\u00f6glichst gut ausgef\u00fcllt ist.\n"
     ]
    },
    {
     "cell_type": "code",
     "collapsed": false,
     "input": [
      "subplot(2, 1, 1)\n",
      "plot(x, sin(x), 'b-')\n",
      "xlabel('Test')\n",
      "xlim(0, 2 * pi)\n",
      "\n",
      "subplot(2, 1, 2)\n",
      "plot(x, cos(x), 'r-')\n",
      "xlim(0, 2 * pi)\n",
      "\n",
      "tight_layout()\n",
      "savefig(\"subplots.pdf\")"
     ],
     "language": "python",
     "metadata": {},
     "outputs": [],
     "prompt_number": 3
    },
    {
     "cell_type": "code",
     "collapsed": false,
     "input": [],
     "language": "python",
     "metadata": {},
     "outputs": []
    }
   ],
   "metadata": {}
  }
 ]
}